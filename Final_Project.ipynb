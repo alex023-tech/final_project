{
  "nbformat": 4,
  "nbformat_minor": 0,
  "metadata": {
    "colab": {
      "provenance": [],
      "toc_visible": true,
      "include_colab_link": true
    },
    "kernelspec": {
      "name": "python3",
      "display_name": "Python 3"
    },
    "language_info": {
      "name": "python"
    }
  },
  "cells": [
    {
      "cell_type": "markdown",
      "metadata": {
        "id": "view-in-github",
        "colab_type": "text"
      },
      "source": [
        "<a href=\"https://colab.research.google.com/github/alex023-tech/final_project/blob/main/Final_Project.ipynb\" target=\"_parent\"><img src=\"https://colab.research.google.com/assets/colab-badge.svg\" alt=\"Open In Colab\"/></a>"
      ]
    },
    {
      "cell_type": "code",
      "execution_count": null,
      "metadata": {
        "colab": {
          "base_uri": "https://localhost:8080/"
        },
        "id": "J47384IlyX72",
        "outputId": "ea2bb6e1-49ae-412a-b4e8-4198005f073f"
      },
      "outputs": [
        {
          "output_type": "stream",
          "name": "stdout",
          "text": [
            "Initial column names in DataFrame:\n",
            "Index(['Unnamed: 0', 'Unnamed: 1', 'Unnamed: 2', 'Unnamed: 3', 'Unnamed: 4',\n",
            "       'Unnamed: 5', 'Unnamed: 6', 'Unnamed: 7', 'Unnamed: 8', 'Unnamed: 9',\n",
            "       'Unnamed: 10'],\n",
            "      dtype='object')\n",
            "Updated column names:\n",
            "Index(['Teachers Name', '9:00 AM', '10:00 AM', '11:00 AM', '12:00 PM',\n",
            "       '1:00 PM', '2:00 PM', '3:00 PM', '4:00 PM', '5:00 PM'],\n",
            "      dtype='object')\n",
            "Enter the name of the teacher: Arijit\n",
            "Free periods for Arijit: 11:00 AM\n"
          ]
        }
      ],
      "source": [
        "import pandas as pd\n",
        "\n",
        "# Step 1: Load your Excel file\n",
        "df = pd.read_excel(\"schedule.xlsx\")\n",
        "\n",
        "# Step 2: Print the original column names to debug\n",
        "print(\"Initial column names in DataFrame:\")\n",
        "print(df.columns)\n",
        "\n",
        "# Step 3: Define new column names\n",
        "columns = [\n",
        "    'Teachers Name', '9:00 AM', '10:00 AM', '11:00 AM', '12:00 PM',\n",
        "    '1:00 PM', '2:00 PM', '3:00 PM', '4:00 PM', '5:00 PM', 'Extra Column'\n",
        "]  # Ensure there are 11 column names\n",
        "\n",
        "# Step 4: Assign the new column names\n",
        "df.columns = columns  # Match the length of the original columns\n",
        "\n",
        "# Step 5: Optionally, drop unnecessary columns\n",
        "df = df.drop(columns=['Extra Column'], errors='ignore')  # Remove 'Extra Column' if not needed\n",
        "\n",
        "# Step 6: Debug: Print updated column names\n",
        "print(\"Updated column names:\")\n",
        "print(df.columns)\n",
        "\n",
        "# Step 7: Find free periods for a specific teacher\n",
        "teacher_name = input(\"Enter the name of the teacher: \")\n",
        "if teacher_name in df['Teachers Name'].values:\n",
        "    teacher_row = df[df['Teachers Name'] == teacher_name].iloc[0]\n",
        "    free_periods = teacher_row[teacher_row == 'Free'].index.tolist()\n",
        "    print(f\"Free periods for {teacher_name}: {', '.join(free_periods)}\")\n",
        "else:\n",
        "    print(f\"{teacher_name} not found in the schedule.\")"
      ]
    }
  ]
}